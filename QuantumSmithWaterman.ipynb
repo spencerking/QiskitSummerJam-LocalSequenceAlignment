{
 "cells": [
  {
   "cell_type": "markdown",
   "metadata": {
    "colab_type": "text",
    "id": "HBbQbpispg2Y"
   },
   "source": [
    "If you don't have Qiskit installed, you'll want to go ahead and run:"
   ]
  },
  {
   "cell_type": "code",
   "execution_count": null,
   "metadata": {
    "colab": {},
    "colab_type": "code",
    "id": "7-E7XMnKpcdl"
   },
   "outputs": [],
   "source": [
    "pip install qiskit --upgrade"
   ]
  },
  {
   "cell_type": "code",
   "execution_count": null,
   "metadata": {
    "colab": {},
    "colab_type": "code",
    "id": "vTuvXDCNyBKH"
   },
   "outputs": [],
   "source": [
    "pip install numpy --upgrade"
   ]
  },
  {
   "cell_type": "markdown",
   "metadata": {
    "colab_type": "text",
    "id": "bqV0Ai-2p3t9"
   },
   "source": [
    "And now to make sure everything is installed correctly:"
   ]
  },
  {
   "cell_type": "code",
   "execution_count": null,
   "metadata": {
    "colab": {},
    "colab_type": "code",
    "id": "woqla0Xjp6uN"
   },
   "outputs": [],
   "source": [
    "import qiskit.tools.jupyter\n",
    "%qiskit_version_table\n",
    "%qiskit_copyright"
   ]
  },
  {
   "cell_type": "markdown",
   "metadata": {
    "colab_type": "text",
    "id": "e0mOiwJVxcji"
   },
   "source": [
    "First, we'll load in the sequences we would like to compare."
   ]
  },
  {
   "cell_type": "code",
   "execution_count": null,
   "metadata": {
    "colab": {},
    "colab_type": "code",
    "id": "vsk48x5PxMSn"
   },
   "outputs": [],
   "source": [
    "a = \"AACCAGTCG\"\n",
    "b = \"CACCGTAA\""
   ]
  },
  {
   "cell_type": "markdown",
   "metadata": {
    "colab_type": "text",
    "id": "Kh5RzV3fuk_i"
   },
   "source": [
    "Next, we need to generate a substitution matrix of matches and non-matches using the classical Smith-Waterman algorithm."
   ]
  },
  {
   "cell_type": "code",
   "execution_count": null,
   "metadata": {
    "colab": {},
    "colab_type": "code",
    "id": "GkUjyQ8ixieB"
   },
   "outputs": [],
   "source": [
    "import itertools\n",
    "import numpy as np\n",
    "\n",
    "# Initialize an (n+1)*(m+1) matrix\n",
    "# Where n and m are len(a) and len(b) respectively\n",
    "H = np.zeros((len(a) + 1, len(b) + 1), np.int)\n",
    "\n",
    "# Compare every character in a against every character in b\n",
    "# Matches (white cells) are denoted with 1\n",
    "for i, j in itertools.product(range(1, H.shape[0]), range(1, H.shape[1])):\n",
    "  if a[i - 1] == b[j - 1]:\n",
    "    H[i, j] = 1\n",
    "\n",
    "# print(\"Before removing extra rows:\")\n",
    "# print(H)\n",
    "\n",
    "# TODO\n",
    "# Verify this doesn't break if we swap a and b\n",
    "for x in range(0, abs(H.shape[0] - H.shape[1])):\n",
    "  H = np.delete(H, 0, 0)\n",
    "  H = np.delete(H, 0, 1)\n",
    "\n",
    "# print(\"After removing extra rows:\")\n",
    "print(H)\n",
    "\n",
    "# print(H.shape[0])\n",
    "# print(H.shape[1])"
   ]
  },
  {
   "cell_type": "markdown",
   "metadata": {},
   "source": [
    "We now need to transform the matrix H such that the diagonals become horizontal or vertical lines. This is necessary since we do not have access to a spatial light modulator."
   ]
  },
  {
   "cell_type": "code",
   "execution_count": null,
   "metadata": {},
   "outputs": [],
   "source": [
    "# I'm really unsure if this is the right approach\n",
    "\n",
    "diag_H = np.array([])\n",
    "\n",
    "diagonal = np.diag(H, k=0)\n",
    "# print(diagonal)\n",
    "\n",
    "diag_len = len(diagonal)\n",
    "diag_H = diagonal\n",
    "\n",
    "for i in range(1, H.shape[1]):\n",
    "  diagonal = np.diag(H, k=i)\n",
    "  # print(diagonal)\n",
    "\n",
    "  # If the diagonal is shorter than the rows, append zeros\n",
    "  if diag_len > len(diagonal):\n",
    "    zeros = np.zeros((1, (diag_len-len(diagonal))), dtype=int)\n",
    "    diagonal = np.append(diagonal, zeros)\n",
    "    diag_H = np.vstack((diag_H, diagonal))\n",
    "\n",
    "  # Otherwise append the diagonal as a row\n",
    "  else:\n",
    "    diag_H = np.vstack((diag_H, diagonal))\n",
    "\n",
    "print(diag_H)"
   ]
  },
  {
   "cell_type": "markdown",
   "metadata": {},
   "source": [
    "Encode the array such that it can become the input to the quantum algorithm"
   ]
  },
  {
   "cell_type": "code",
   "execution_count": null,
   "metadata": {},
   "outputs": [],
   "source": [
    "# TODO"
   ]
  },
  {
   "cell_type": "markdown",
   "metadata": {
    "colab_type": "text",
    "id": "fi2-N_tZzDiv"
   },
   "source": [
    "Next, we need to apply Schützhold's Quantum Algorithm."
   ]
  },
  {
   "cell_type": "code",
   "execution_count": null,
   "metadata": {
    "colab": {},
    "colab_type": "code",
    "id": "gnEAaw5stdTW"
   },
   "outputs": [],
   "source": [
    "from qiskit import QuantumCircuit, QuantumRegister, ClassicalRegister\n",
    "from qiskit.circuit.library import QFT\n",
    "\n",
    "# Create a 3 qubit quantum register\n",
    "# qr[0] is x, qr[1] is y, qr[2] is f(x,y)\n",
    "qr = QuantumRegister(3)\n",
    "cr = ClassicalRegister(3)\n",
    "\n",
    "circuit = QuantumCircuit(qr, cr)\n",
    "\n",
    "%matplotlib inline\n",
    "\n",
    "circuit.h(qr[0])\n",
    "circuit.h(qr[1])\n",
    "\n",
    "# Feed the circuit into the BB\n",
    "# TODO\n",
    "sub_q = QuantumRegister(3)\n",
    "sub_circ = QuantumCircuit(sub_q, name='BB')\n",
    "sub_inst = sub_circ.to_instruction()\n",
    "circuit.append(sub_inst, [qr[0], qr[1], qr[2]])\n",
    "\n",
    "# QFT on qr[0] and qr[1]\n",
    "qft = QFT(num_qubits=2)\n",
    "circuit.compose(qft, inplace=True)\n",
    "\n",
    "# Measure all 3\n",
    "circuit.measure(qr, cr)\n",
    "\n",
    "circuit.draw(output='mpl')"
   ]
  }
 ],
 "metadata": {
  "colab": {
   "collapsed_sections": [],
   "name": "QuantumSmithWaterman.ipynb",
   "provenance": []
  },
  "kernelspec": {
   "display_name": "Python 3",
   "language": "python",
   "name": "python3"
  },
  "language_info": {
   "codemirror_mode": {
    "name": "ipython",
    "version": 3
   },
   "file_extension": ".py",
   "mimetype": "text/x-python",
   "name": "python",
   "nbconvert_exporter": "python",
   "pygments_lexer": "ipython3",
   "version": "3.7.6"
  }
 },
 "nbformat": 4,
 "nbformat_minor": 1
}
