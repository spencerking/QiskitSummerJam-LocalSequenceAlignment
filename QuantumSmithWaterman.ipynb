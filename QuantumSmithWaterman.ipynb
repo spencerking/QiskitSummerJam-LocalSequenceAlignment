{
  "nbformat": 4,
  "nbformat_minor": 0,
  "metadata": {
    "colab": {
      "name": "QuantumSmithWaterman.ipynb",
      "provenance": [],
      "collapsed_sections": []
    },
    "kernelspec": {
      "name": "python3",
      "display_name": "Python 3"
    }
  },
  "cells": [
    {
      "cell_type": "markdown",
      "metadata": {
        "id": "HBbQbpispg2Y",
        "colab_type": "text"
      },
      "source": [
        "If you don't have Qiskit installed, you'll want to go ahead and run:"
      ]
    },
    {
      "cell_type": "code",
      "metadata": {
        "id": "7-E7XMnKpcdl",
        "colab_type": "code",
        "colab": {}
      },
      "source": [
        "pip install qiskit --upgrade"
      ],
      "execution_count": null,
      "outputs": []
    },
    {
      "cell_type": "code",
      "metadata": {
        "id": "vTuvXDCNyBKH",
        "colab_type": "code",
        "colab": {}
      },
      "source": [
        "pip install numpy --upgrade"
      ],
      "execution_count": null,
      "outputs": []
    },
    {
      "cell_type": "markdown",
      "metadata": {
        "id": "bqV0Ai-2p3t9",
        "colab_type": "text"
      },
      "source": [
        "And now to make sure everything is installed correctly:"
      ]
    },
    {
      "cell_type": "code",
      "metadata": {
        "id": "woqla0Xjp6uN",
        "colab_type": "code",
        "colab": {}
      },
      "source": [
        "import qiskit.tools.jupyter\n",
        "%qiskit_version_table\n",
        "%qiskit_copyright"
      ],
      "execution_count": null,
      "outputs": []
    },
    {
      "cell_type": "markdown",
      "metadata": {
        "id": "e0mOiwJVxcji",
        "colab_type": "text"
      },
      "source": [
        "First, we'll load in the sequences we would like to compare."
      ]
    },
    {
      "cell_type": "code",
      "metadata": {
        "id": "vsk48x5PxMSn",
        "colab_type": "code",
        "colab": {}
      },
      "source": [
        "a = \"AACCAGTCG\"\n",
        "b = \"CACCGTAA\""
      ],
      "execution_count": null,
      "outputs": []
    },
    {
      "cell_type": "markdown",
      "metadata": {
        "id": "Kh5RzV3fuk_i",
        "colab_type": "text"
      },
      "source": [
        "Next, we need to generate a substitution matrix of matches and non-matches using the classical Smith-Waterman algorithm."
      ]
    },
    {
      "cell_type": "code",
      "metadata": {
        "id": "GkUjyQ8ixieB",
        "colab_type": "code",
        "colab": {}
      },
      "source": [
        "import itertools\n",
        "import numpy as np\n",
        "\n",
        "# Initialize an (n+1)*(m+1) matrix\n",
        "# Where n and m are len(a) and len(b) respectively\n",
        "H = np.zeros((len(a) + 1, len(b) + 1), np.int)\n",
        "\n",
        "# Compare every character in a against every character in b\n",
        "# Matches (white cells) are denoted with 1\n",
        "for i, j in itertools.product(range(1, H.shape[0]), range(1, H.shape[1])):\n",
        "  if a[i - 1] == b[j - 1]:\n",
        "    H[i, j] = 1\n",
        "\n",
        "print(\"Before removing extra rows:\")\n",
        "print(H)\n",
        "\n",
        "# TODO\n",
        "# Verify this doesn't break if we swap a and b\n",
        "for x in range(0, abs(H.shape[0] - H.shape[1])):\n",
        "  H = np.delete(H, 0, 0)\n",
        "  H = np.delete(H, 0, 1)\n",
        "\n",
        "print(\"After removing extra rows:\")\n",
        "print(H)\n",
        "\n",
        "print(H.shape[0])\n",
        "print(H.shape[1])"
      ],
      "execution_count": null,
      "outputs": []
    }
  ]
}